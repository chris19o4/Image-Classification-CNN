{
 "cells": [
  {
   "cell_type": "markdown",
   "metadata": {
    "collapsed": true,
    "deletable": true,
    "editable": true
   },
   "source": [
    "# Image Classification\n",
    "In this project, we'll classify images from the [CIFAR-10 dataset](https://www.cs.toronto.edu/~kriz/cifar.html).  The dataset consists of airplanes, dogs, cats, and other objects. We'll preprocess the images, then train a convolutional neural network on all the samples. The images need to be normalized and the labels need to be one-hot encoded.  We'll build a convolutional neural network consisting of convolutional, max pooling, dropout, and fully connected layers.  At the end, we'll get to see neural network's predictions on the sample images we are running through the trained network.\n",
    "Parts of the codebase is provided by Udacity.\n",
    "## Get the Data\n",
    "First we're going to download the dataset from [CIFAR-10 dataset for python](https://www.cs.toronto.edu/~kriz/cifar-10-python.tar.gz)."
   ]
  },
  {
   "cell_type": "code",
   "execution_count": 1,
   "metadata": {
    "collapsed": false,
    "deletable": true,
    "editable": true
   },
   "outputs": [
    {
     "name": "stderr",
     "output_type": "stream",
     "text": [
      "CIFAR-10 Dataset: 171MB [02:18, 1.23MB/s]                              \n"
     ]
    },
    {
     "name": "stdout",
     "output_type": "stream",
     "text": [
      "All files found!\n"
     ]
    }
   ],
   "source": [
    "from urllib.request import urlretrieve\n",
    "from os.path import isfile, isdir\n",
    "from tqdm import tqdm\n",
    "import problem_unittests as tests\n",
    "import tarfile\n",
    "\n",
    "cifar10_dataset_folder_path = 'cifar-10-batches-py'\n",
    "\n",
    "class DLProgress(tqdm):\n",
    "    last_block = 0\n",
    "\n",
    "    def hook(self, block_num=1, block_size=1, total_size=None):\n",
    "        self.total = total_size\n",
    "        self.update((block_num - self.last_block) * block_size)\n",
    "        self.last_block = block_num\n",
    "\n",
    "if not isfile('cifar-10-python.tar.gz'):\n",
    "    with DLProgress(unit='B', unit_scale=True, miniters=1, desc='CIFAR-10 Dataset') as pbar:\n",
    "        urlretrieve(\n",
    "            'https://www.cs.toronto.edu/~kriz/cifar-10-python.tar.gz',\n",
    "            'cifar-10-python.tar.gz',\n",
    "            pbar.hook)\n",
    "\n",
    "if not isdir(cifar10_dataset_folder_path):\n",
    "    with tarfile.open('cifar-10-python.tar.gz') as tar:\n",
    "        tar.extractall()\n",
    "        tar.close()\n",
    "\n",
    "\n",
    "tests.test_folder_path(cifar10_dataset_folder_path)"
   ]
  },
  {
   "cell_type": "markdown",
   "metadata": {
    "deletable": true,
    "editable": true
   },
   "source": [
    "## Let us explore the Data\n",
    "The dataset is broken into batches to prevent your machine from running out of memory.  The CIFAR-10 dataset consists of 5 batches, named `data_batch_1`, `data_batch_2`, etc.. Each batch contains the labels and images that are one of the following:\n",
    "* airplane\n",
    "* automobile\n",
    "* bird\n",
    "* cat\n",
    "* deer\n",
    "* dog\n",
    "* frog\n",
    "* horse\n",
    "* ship\n",
    "* truck\n"
   ]
  },
  {
   "cell_type": "code",
   "execution_count": 2,
   "metadata": {
    "collapsed": false,
    "deletable": true,
    "editable": true
   },
   "outputs": [
    {
     "name": "stdout",
     "output_type": "stream",
     "text": [
      "\n",
      "Stats of batch 1:\n",
      "Samples: 10000\n",
      "Label Counts: {0: 1005, 1: 974, 2: 1032, 3: 1016, 4: 999, 5: 937, 6: 1030, 7: 1001, 8: 1025, 9: 981}\n",
      "First 20 Labels: [6, 9, 9, 4, 1, 1, 2, 7, 8, 3, 4, 7, 7, 2, 9, 9, 9, 3, 2, 6]\n",
      "\n",
      "Example of Image 5:\n",
      "Image - Min Value: 0 Max Value: 252\n",
      "Image - Shape: (32, 32, 3)\n",
      "Label - Label Id: 1 Name: automobile\n"
     ]
    },
    {
     "data": {
      "image/png": "[encoded data removed]",
      "text/plain": [
       "<matplotlib.figure.Figure at 0x1029829b0>"
      ]
     },
     "metadata": {
      "image/png": {
       "height": 250,
       "width": 253
      }
     },
     "output_type": "display_data"
    }
   ],
   "source": [
    "%matplotlib inline\n",
    "%config InlineBackend.figure_format = 'retina'\n",
    "\n",
    "import helper\n",
    "import numpy as np\n",
    "\n",
    "# Explore the dataset\n",
    "batch_id = 1\n",
    "sample_id = 5\n",
    "helper.display_stats(cifar10_dataset_folder_path, batch_id, sample_id)"
   ]
  },
  {
   "cell_type": "markdown",
   "metadata": {
    "deletable": true,
    "editable": true
   },
   "source": [
    "## Implement Preprocess Functions\n",
    "### Normalize\n",
    "In the cell below, implement the `normalize` function to take in image data, `x`, and return it as a normalized Numpy array. The values should be in the range of 0 to 1."
   ]
  },
  {
   "cell_type": "code",
   "execution_count": 3,
   "metadata": {
    "collapsed": false,
    "deletable": true,
    "editable": true
   },
   "outputs": [
    {
     "name": "stdout",
     "output_type": "stream",
     "text": [
      "Tests Passed\n"
     ]
    }
   ],
   "source": [
    "def normalize(x):\n",
    "    \"\"\"\n",
    "    Normalize a list of sample image data in the range of 0 to 1\n",
    "    : x: List of image data.  The image shape is (32, 32, 3)\n",
    "    : return: Numpy array of normalize data\n",
    "    \"\"\"\n",
    "    return x/255.0\n",
    "\n",
    "tests.test_normalize(normalize)"
   ]
  },
  {
   "cell_type": "markdown",
   "metadata": {
    "deletable": true,
    "editable": true
   },
   "source": [
    "### One-hot encode\n",
    "Here we'll implement the `one_hot_encode` function. The input, `x`, are a list of labels.  Implement the function to return the list of labels as One-Hot encoded Numpy array.  The possible values for labels are 0 to 9. The one-hot encoding function should return the same encoding for each value between each call to `one_hot_encode`. "
   ]
  },
  {
   "cell_type": "code",
   "execution_count": 4,
   "metadata": {
    "collapsed": false,
    "deletable": true,
    "editable": true
   },
   "outputs": [
    {
     "name": "stdout",
     "output_type": "stream",
     "text": [
      "Tests Passed\n"
     ]
    }
   ],
   "source": [
    "import numpy as np\n",
    "from sklearn import preprocessing\n",
    "\n",
    "def one_hot_encode(x):\n",
    "    \"\"\"\n",
    "    One hot encode a list of sample labels. Return a one-hot encoded vector for each label.\n",
    "    : x: List of sample Labels\n",
    "    : return: Numpy array of one-hot encoded labels\n",
    "    \"\"\"\n",
    "\n",
    "    one_hot = np.zeros(shape=(len(x), 10))\n",
    "    for i in range(0, len(one_hot)):\n",
    "        one_hot[i][x[i]] = 1\n",
    "    return one_hot\n",
    "\n",
    "tests.test_one_hot_encode(one_hot_encode)"
   ]
  },
  {
   "cell_type": "markdown",
   "metadata": {
    "deletable": true,
    "editable": true
   },
   "source": [
    "## Preprocessing the data and saveing it\n",
    "The code cell below will preprocess all the CIFAR-10 data and save it to file. The code below also uses 10% of the training data for validation."
   ]
  },
  {
   "cell_type": "code",
   "execution_count": 5,
   "metadata": {
    "collapsed": false,
    "deletable": true,
    "editable": true
   },
   "outputs": [],
   "source": [
    "# Preprocess Training, Validation, and Testing Data\n",
    "helper.preprocess_and_save_data(cifar10_dataset_folder_path, normalize, one_hot_encode)"
   ]
  },
  {
   "cell_type": "markdown",
   "metadata": {
    "deletable": true,
    "editable": true
   },
   "source": [
    "# Check Point\n",
    "This is the first checkpoint. The preprocessed data has been saved to disk."
   ]
  },
  {
   "cell_type": "code",
   "execution_count": 6,
   "metadata": {
    "collapsed": true,
    "deletable": true,
    "editable": true
   },
   "outputs": [],
   "source": [
    "import pickle\n",
    "import problem_unittests as tests\n",
    "import helper\n",
    "\n",
    "# Load the Preprocessed Validation data\n",
    "valid_features, valid_labels = pickle.load(open('preprocess_validation.p', mode='rb'))"
   ]
  },
  {
   "cell_type": "markdown",
   "metadata": {
    "deletable": true,
    "editable": true
   },
   "source": [
    "## Build the network\n",
    "For the neural network, we'll build each layer into a function.  \n",
    "\n",
    "### Input\n",
    "The neural network needs to read the image data, one-hot encoded labels, and dropout keep probability. "
   ]
  },
  {
   "cell_type": "code",
   "execution_count": 7,
   "metadata": {
    "collapsed": false,
    "deletable": true,
    "editable": true
   },
   "outputs": [
    {
     "name": "stdout",
     "output_type": "stream",
     "text": [
      "Image Input Tests Passed.\n",
      "Label Input Tests Passed.\n",
      "Keep Prob Tests Passed.\n"
     ]
    }
   ],
   "source": [
    "import tensorflow as tf\n",
    "\n",
    "def neural_net_image_input(image_shape):\n",
    "    \"\"\"\n",
    "    Return a Tensor for a bach of image input\n",
    "    : image_shape: Shape of the images\n",
    "    : return: Tensor for image input.\n",
    "    \"\"\"\n",
    "    \n",
    "    return tf.placeholder(tf.float32, shape = (None, *image_shape), name = \"x\")\n",
    "\n",
    "\n",
    "def neural_net_label_input(n_classes):\n",
    "    \"\"\"\n",
    "    Return a Tensor for a batch of label input\n",
    "    : n_classes: Number of classes\n",
    "    : return: Tensor for label input.\n",
    "    \"\"\"\n",
    "\n",
    "    return tf.placeholder(tf.float32, shape= (None, n_classes), name = \"y\")\n",
    "\n",
    "\n",
    "def neural_net_keep_prob_input():\n",
    "    \"\"\"\n",
    "    Return a Tensor for keep probability\n",
    "    : return: Tensor for keep probability.\n",
    "    \"\"\"\n",
    "    return tf.placeholder(tf.float32, name = \"keep_prob\")\n",
    "\n",
    "tf.reset_default_graph()\n",
    "tests.test_nn_image_inputs(neural_net_image_input)\n",
    "tests.test_nn_label_inputs(neural_net_label_input)\n",
    "tests.test_nn_keep_prob_inputs(neural_net_keep_prob_input)"
   ]
  },
  {
   "cell_type": "markdown",
   "metadata": {
    "deletable": true,
    "editable": true
   },
   "source": [
    "### Convolution and Max Pooling Layer\n",
    "Convolution layers have a lot of success with images. For this code cell, we'll implement the function `conv2d_maxpool` to apply convolution then max pooling:"
   ]
  },
  {
   "cell_type": "code",
   "execution_count": 8,
   "metadata": {
    "collapsed": false,
    "deletable": true,
    "editable": true
   },
   "outputs": [
    {
     "name": "stdout",
     "output_type": "stream",
     "text": [
      "Tests Passed\n"
     ]
    }
   ],
   "source": [
    "def conv2d_maxpool(x_tensor, conv_num_outputs, conv_ksize, conv_strides, pool_ksize, pool_strides):\n",
    "    \"\"\"\n",
    "    Apply convolution then max pooling to x_tensor\n",
    "    :param x_tensor: TensorFlow Tensor\n",
    "    :param conv_num_outputs: Number of outputs for the convolutional layer\n",
    "    :param conv_strides: Stride 2-D Tuple for convolution\n",
    "    :param pool_ksize: kernal size 2-D Tuple for pool\n",
    "    :param pool_strides: Stride 2-D Tuple for pool\n",
    "    : return: A tensor that represents convolution and max pooling of x_tensor\n",
    "    \"\"\"\n",
    "    # Create the weight and bias\n",
    "    # height, width, input_depth, output_depth\n",
    "    weights = tf.Variable(tf.random_normal([*conv_ksize, int(x_tensor.shape[3]), conv_num_outputs], mean=0.0, stddev=0.1))\n",
    "    bias = tf.Variable(tf.zeros(conv_num_outputs))\n",
    "    \n",
    "    # Apply a convolution\n",
    "    conv_layer = tf.nn.conv2d(x_tensor, weights, [1,*conv_strides, 1], padding = 'SAME')\n",
    "    # Add bias\n",
    "    conv_layer = tf.nn.bias_add(conv_layer, bias)\n",
    "    # Apply activation function\n",
    "    conv_layer = tf.nn.relu(conv_layer)\n",
    "    \n",
    "    # Apply Max Pooling\n",
    "    conv_layer = tf.nn.max_pool(conv_layer, [1, *pool_ksize, 1], [1, *pool_strides, 1], padding = 'SAME')\n",
    "    \n",
    "    return conv_layer \n",
    "\n",
    "\n",
    "tests.test_con_pool(conv2d_maxpool)"
   ]
  },
  {
   "cell_type": "markdown",
   "metadata": {
    "deletable": true,
    "editable": true
   },
   "source": [
    "### Flatten Layer\n",
    "Implementing the `flatten` function to change the dimension of `x_tensor` from a 4-D tensor to a 2-D tensor."
   ]
  },
  {
   "cell_type": "code",
   "execution_count": 9,
   "metadata": {
    "collapsed": false,
    "deletable": true,
    "editable": true
   },
   "outputs": [
    {
     "name": "stdout",
     "output_type": "stream",
     "text": [
      "Tests Passed\n"
     ]
    }
   ],
   "source": [
    "def flatten(x_tensor):\n",
    "    \"\"\"\n",
    "    Flatten x_tensor to (Batch Size, Flattened Image Size)\n",
    "    : x_tensor: A tensor of size (Batch Size, ...), where ... are the image dimensions.\n",
    "    : return: A tensor of size (Batch Size, Flattened Image Size).\n",
    "    \"\"\"\n",
    "    shape = x_tensor.get_shape().as_list()\n",
    "    length = shape[1]*shape[2]*shape[3]\n",
    "    return tf.reshape(x_tensor, [-1, length])\n",
    "\n",
    "tests.test_flatten(flatten)"
   ]
  },
  {
   "cell_type": "markdown",
   "metadata": {
    "deletable": true,
    "editable": true
   },
   "source": [
    "### Fully-Connected Layer\n",
    "Implementing the `fully_conn` function to apply a fully connected layer to `x_tensor` with the shape (*Batch Size*, *num_outputs*)."
   ]
  },
  {
   "cell_type": "code",
   "execution_count": 11,
   "metadata": {
    "collapsed": false,
    "deletable": true,
    "editable": true
   },
   "outputs": [
    {
     "name": "stdout",
     "output_type": "stream",
     "text": [
      "Tests Passed\n"
     ]
    }
   ],
   "source": [
    "def fully_conn(x_tensor, num_outputs):\n",
    "    \"\"\"\n",
    "    Apply a fully connected layer to x_tensor using weight and bias\n",
    "    : x_tensor: A 2-D tensor where the first dimension is batch size.\n",
    "    : num_outputs: The number of output that the new tensor should be.\n",
    "    : return: A 2-D tensor where the second dimension is num_outputs.\n",
    "    \"\"\"\n",
    "    \n",
    "    num_input = x_tensor.get_shape().as_list()[1]\n",
    "    weight = tf.Variable(tf.truncated_normal([num_input, num_outputs], mean=0.0, stddev=0.1))\n",
    "    bias = tf.Variable(tf.zeros(num_outputs))\n",
    "    out = tf.add(tf.matmul(x_tensor, weight), bias)\n",
    "    return tf.nn.relu(out)\n",
    "\n",
    "\n",
    "tests.test_fully_conn(fully_conn)"
   ]
  },
  {
   "cell_type": "markdown",
   "metadata": {
    "deletable": true,
    "editable": true
   },
   "source": [
    "### Output Layer\n",
    "Implementing the `output` function to apply a fully connected layer to `x_tensor` with the shape (*Batch Size*, *num_outputs*)."
   ]
  },
  {
   "cell_type": "code",
   "execution_count": 12,
   "metadata": {
    "collapsed": false,
    "deletable": true,
    "editable": true
   },
   "outputs": [
    {
     "name": "stdout",
     "output_type": "stream",
     "text": [
      "Tests Passed\n"
     ]
    }
   ],
   "source": [
    "def output(x_tensor, num_outputs):\n",
    "    \"\"\"\n",
    "    Apply a output layer to x_tensor using weight and bias\n",
    "    : x_tensor: A 2-D tensor where the first dimension is batch size.\n",
    "    : num_outputs: The number of output that the new tensor should be.\n",
    "    : return: A 2-D tensor where the second dimension is num_outputs.\n",
    "    \"\"\"\n",
    "    num_input = x_tensor.get_shape().as_list()[1]\n",
    "    weights = tf.Variable(tf.truncated_normal([num_input, num_outputs], mean=0, stddev=0.1))\n",
    "    bias = tf.Variable(tf.zeros(num_outputs))\n",
    "    return tf.add(tf.matmul(x_tensor, weights), bias)\n",
    "\n",
    "\n",
    "tests.test_output(output)"
   ]
  },
  {
   "cell_type": "markdown",
   "metadata": {
    "deletable": true,
    "editable": true
   },
   "source": [
    "### Create Convolutional Model\n",
    "Implementing the function `conv_net` to create a convolutional neural network model. The function takes in a batch of images, `x`, and outputs logits.\n"
   ]
  },
  {
   "cell_type": "code",
   "execution_count": 13,
   "metadata": {
    "collapsed": false,
    "deletable": true,
    "editable": true
   },
   "outputs": [
    {
     "name": "stdout",
     "output_type": "stream",
     "text": [
      "Neural Network Built!\n"
     ]
    }
   ],
   "source": [
    "def conv_net(x, keep_prob):\n",
    "    \"\"\"\n",
    "    Create a convolutional neural network model\n",
    "    : x: Placeholder tensor that holds image data.\n",
    "    : keep_prob: Placeholder tensor that hold dropout keep probability.\n",
    "    : return: Tensor that represents logits\n",
    "    \"\"\"\n",
    "    \n",
    "    conv1_num_outputs = 64\n",
    "    conv1_ksize = (3, 3)\n",
    "    conv1_strides = (1, 1)\n",
    "    \n",
    "    conv2_num_outputs = 64\n",
    "    conv2_ksize = (3, 3)\n",
    "    conv2_strides = (1, 1)\n",
    "    \n",
    "    conv3_num_outputs = 64\n",
    "    conv3_ksize = (3, 3)\n",
    "    conv3_strides = (1, 1)\n",
    "    \n",
    "    pool1_ksize = (2, 2)\n",
    "    pool1_strides = (2, 2)\n",
    "    pool2_ksize = (2, 2)\n",
    "    pool2_strides = (2, 2)\n",
    "    pool3_ksize = (2, 2)\n",
    "    pool3_strides = (2, 2)\n",
    "    \n",
    "    num_outputs_fc1 = 128\n",
    "    num_outputs_fc2 = 64\n",
    "    num_outputs_fc3 = 10\n",
    "    \n",
    "    num_outputs = 10\n",
    "    \n",
    "    # Function Definition from Above:\n",
    "    # conv2d_maxpool(x_tensor, conv_num_outputs, conv_ksize, conv_strides, pool_ksize, pool_strides)\n",
    "    \n",
    "    conv1 = conv2d_maxpool(x, conv1_num_outputs, conv1_ksize, conv1_strides, pool1_ksize, pool1_strides)\n",
    "    conv2 = conv2d_maxpool(conv1, conv2_num_outputs, conv2_ksize, conv2_strides, pool2_ksize, pool2_strides)\n",
    "    conv3 = conv2d_maxpool(conv2, conv3_num_outputs, conv3_ksize, conv3_strides, pool3_ksize, pool3_strides)\n",
    "\n",
    "    # Function Definition from Above:\n",
    "    #   flatten(x_tensor)\n",
    "    \n",
    "    flat = flatten(conv3)\n",
    "    \n",
    "    # Function Definition from Above:\n",
    "    #   fully_conn(x_tensor, num_outputs)\n",
    "    \n",
    "    fc1 = fully_conn(flat, num_outputs_fc1)\n",
    "    fc1 = tf.nn.dropout(fc1, keep_prob)\n",
    "    \n",
    "    fc2 = fully_conn(fc1, num_outputs_fc2)\n",
    "    fc2 = tf.nn.dropout(fc2, keep_prob)\n",
    "    \n",
    "    fc3 = fully_conn(fc2, num_outputs_fc3)\n",
    "    fc3 = tf.nn.dropout(fc3, keep_prob)\n",
    "    \n",
    "    # Function Definition from Above:\n",
    "    #   output(x_tensor, num_outputs)\n",
    "    \n",
    "    logits = output(fc2, num_outputs)\n",
    "    \n",
    "    # return logits as output\n",
    "    return logits\n",
    "\n",
    "\n",
    "##############################\n",
    "## Build the Neural Network ##\n",
    "##############################\n",
    "\n",
    "# Remove previous weights, bias, inputs, etc..\n",
    "tf.reset_default_graph()\n",
    "\n",
    "# Inputs\n",
    "x = neural_net_image_input((32, 32, 3))\n",
    "y = neural_net_label_input(10)\n",
    "keep_prob = neural_net_keep_prob_input()\n",
    "\n",
    "# Model\n",
    "logits = conv_net(x, keep_prob)\n",
    "\n",
    "# Name logits Tensor, so that is can be loaded from disk after training\n",
    "logits = tf.identity(logits, name='logits')\n",
    "\n",
    "# Loss and Optimizer\n",
    "cost = tf.reduce_mean(tf.nn.softmax_cross_entropy_with_logits(logits=logits, labels=y))\n",
    "optimizer = tf.train.AdamOptimizer().minimize(cost)\n",
    "\n",
    "# Accuracy\n",
    "correct_pred = tf.equal(tf.argmax(logits, 1), tf.argmax(y, 1))\n",
    "accuracy = tf.reduce_mean(tf.cast(correct_pred, tf.float32), name='accuracy')\n",
    "\n",
    "tests.test_conv_net(conv_net)"
   ]
  },
  {
   "cell_type": "markdown",
   "metadata": {
    "deletable": true,
    "editable": true
   },
   "source": [
    "## Training the Neural Network\n",
    "### Single Optimization\n",
    "Implementing the function `train_neural_network` to do a single optimization.  The optimization uses `optimizer` to optimize in `session` with a `feed_dict` of the following:\n",
    "* `x` for image input\n",
    "* `y` for labels\n",
    "* `keep_prob` for keep probability for dropout\n",
    "\n",
    "This function will be called for each batch, so `tf.global_variables_initializer()` has already been called."
   ]
  },
  {
   "cell_type": "code",
   "execution_count": 14,
   "metadata": {
    "collapsed": false,
    "deletable": true,
    "editable": true
   },
   "outputs": [
    {
     "name": "stdout",
     "output_type": "stream",
     "text": [
      "Tests Passed\n"
     ]
    }
   ],
   "source": [
    "def train_neural_network(session, optimizer, keep_probability, feature_batch, label_batch):\n",
    "    \"\"\"\n",
    "    Optimize the session on a batch of images and labels\n",
    "    : session: Current TensorFlow session\n",
    "    : optimizer: TensorFlow optimizer function\n",
    "    : keep_probability: keep probability\n",
    "    : feature_batch: Batch of Numpy image data\n",
    "    : label_batch: Batch of Numpy label data\n",
    "    \"\"\"\n",
    "    session.run(optimizer, feed_dict={\n",
    "                x: feature_batch,\n",
    "                y: label_batch,\n",
    "                keep_prob: keep_probability})\n",
    "    pass\n",
    "\n",
    "\n",
    "tests.test_train_nn(train_neural_network)"
   ]
  },
  {
   "cell_type": "markdown",
   "metadata": {
    "deletable": true,
    "editable": true
   },
   "source": [
    "### Show Stats\n",
    "Implementing the function `print_stats` to print loss and validation accuracy.  Using the global variables `valid_features` and `valid_labels` to calculate validation accuracy.  "
   ]
  },
  {
   "cell_type": "code",
   "execution_count": 15,
   "metadata": {
    "collapsed": false,
    "deletable": true,
    "editable": true
   },
   "outputs": [],
   "source": [
    "def print_stats(session, feature_batch, label_batch, cost, accuracy):\n",
    "    \"\"\"\n",
    "    Print information about loss and validation accuracy\n",
    "    : session: Current TensorFlow session\n",
    "    : feature_batch: Batch of Numpy image data\n",
    "    : label_batch: Batch of Numpy label data\n",
    "    : cost: TensorFlow cost function\n",
    "    : accuracy: TensorFlow accuracy function\n",
    "    \"\"\"\n",
    "    loss = session.run(cost, feed_dict={\n",
    "                x: feature_batch,\n",
    "                y: label_batch,\n",
    "                keep_prob: 1.})\n",
    "                     \n",
    "    valid_acc = session.run(accuracy, feed_dict={\n",
    "                x: valid_features,\n",
    "                y: valid_labels,\n",
    "                keep_prob: 1.})\n",
    "    \n",
    "    print('Loss: {:>10.4f} Validation Accuracy: {:.4f}%'.format(\n",
    "                loss,\n",
    "                valid_acc*100))\n",
    "    '''\n",
    "    print('Loss: {}'.format(\n",
    "                loss))\n",
    "    '''           \n",
    "    pass"
   ]
  },
  {
   "cell_type": "markdown",
   "metadata": {
    "deletable": true,
    "editable": true
   },
   "source": [
    "### Hyperparameters\n",
    "Tuning the following parameters:\n",
    "* Set `epochs` to the number of iterations until the network stops learning or start overfitting\n",
    "* Set `batch_size` Common sizes of batches are:\n",
    " * 64\n",
    " * 128\n",
    " * 256\n",
    "* Set `keep_probability` to the probability of keeping a node using dropout"
   ]
  },
  {
   "cell_type": "code",
   "execution_count": 28,
   "metadata": {
    "collapsed": true,
    "deletable": true,
    "editable": true
   },
   "outputs": [],
   "source": [
    "# Tune Parameters\n",
    "epochs = 30\n",
    "batch_size = 64\n",
    "keep_probability = 0.6"
   ]
  },
  {
   "cell_type": "markdown",
   "metadata": {
    "deletable": true,
    "editable": true
   },
   "source": [
    "### Train on a Single CIFAR-10 Batch\n",
    "Instead of training the neural network on all the CIFAR-10 batches of data, we are using a single batch. This should save time while iterating on the model to get a better accuracy.  Once the final validation accuracy is 50% or greater, we'll run the model on all the data in the next section."
   ]
  },
  {
   "cell_type": "code",
   "execution_count": 29,
   "metadata": {
    "collapsed": false,
    "deletable": true,
    "editable": true
   },
   "outputs": [
    {
     "name": "stdout",
     "output_type": "stream",
     "text": [
      "Checking the Training on a Single Batch...\n",
      "Epoch  1, CIFAR-10 Batch 1:  Loss:     2.0419 Validation Accuracy: 27.8800%\n",
      "Epoch  2, CIFAR-10 Batch 1:  Loss:     1.8510 Validation Accuracy: 39.8000%\n",
      "Epoch  3, CIFAR-10 Batch 1:  Loss:     1.7483 Validation Accuracy: 42.5800%\n",
      "Epoch  4, CIFAR-10 Batch 1:  Loss:     1.6175 Validation Accuracy: 44.2400%\n",
      "Epoch  5, CIFAR-10 Batch 1:  Loss:     1.5419 Validation Accuracy: 47.2000%\n",
      "Epoch  6, CIFAR-10 Batch 1:  Loss:     1.2740 Validation Accuracy: 51.4200%\n",
      "Epoch  7, CIFAR-10 Batch 1:  Loss:     1.0967 Validation Accuracy: 51.3600%\n",
      "Epoch  8, CIFAR-10 Batch 1:  Loss:     1.0423 Validation Accuracy: 54.4200%\n",
      "Epoch  9, CIFAR-10 Batch 1:  Loss:     0.9141 Validation Accuracy: 55.9600%\n",
      "Epoch 10, CIFAR-10 Batch 1:  Loss:     0.9238 Validation Accuracy: 55.8600%\n",
      "Epoch 11, CIFAR-10 Batch 1:  Loss:     0.8442 Validation Accuracy: 58.2000%\n",
      "Epoch 12, CIFAR-10 Batch 1:  Loss:     0.7309 Validation Accuracy: 58.4000%\n",
      "Epoch 13, CIFAR-10 Batch 1:  Loss:     0.7162 Validation Accuracy: 59.6600%\n",
      "Epoch 14, CIFAR-10 Batch 1:  Loss:     0.7176 Validation Accuracy: 58.8400%\n",
      "Epoch 15, CIFAR-10 Batch 1:  Loss:     0.6194 Validation Accuracy: 59.1200%\n",
      "Epoch 16, CIFAR-10 Batch 1:  Loss:     0.5526 Validation Accuracy: 59.6800%\n",
      "Epoch 17, CIFAR-10 Batch 1:  Loss:     0.4617 Validation Accuracy: 60.6200%\n",
      "Epoch 18, CIFAR-10 Batch 1:  Loss:     0.4465 Validation Accuracy: 59.8800%\n",
      "Epoch 19, CIFAR-10 Batch 1:  Loss:     0.4449 Validation Accuracy: 60.3800%\n",
      "Epoch 20, CIFAR-10 Batch 1:  Loss:     0.4136 Validation Accuracy: 59.3000%\n",
      "Epoch 21, CIFAR-10 Batch 1:  Loss:     0.2943 Validation Accuracy: 59.3400%\n",
      "Epoch 22, CIFAR-10 Batch 1:  Loss:     0.3664 Validation Accuracy: 60.8000%\n",
      "Epoch 23, CIFAR-10 Batch 1:  Loss:     0.2747 Validation Accuracy: 60.7400%\n",
      "Epoch 24, CIFAR-10 Batch 1:  Loss:     0.2671 Validation Accuracy: 60.9200%\n",
      "Epoch 25, CIFAR-10 Batch 1:  Loss:     0.2340 Validation Accuracy: 60.9400%\n",
      "Epoch 26, CIFAR-10 Batch 1:  Loss:     0.2439 Validation Accuracy: 61.7000%\n",
      "Epoch 27, CIFAR-10 Batch 1:  Loss:     0.1749 Validation Accuracy: 60.5600%\n",
      "Epoch 28, CIFAR-10 Batch 1:  Loss:     0.1629 Validation Accuracy: 61.3000%\n",
      "Epoch 29, CIFAR-10 Batch 1:  Loss:     0.1647 Validation Accuracy: 61.6800%\n",
      "Epoch 30, CIFAR-10 Batch 1:  Loss:     0.1798 Validation Accuracy: 60.3800%\n"
     ]
    }
   ],
   "source": [
    "\n",
    "print('Checking the Training on a Single Batch...')\n",
    "with tf.Session() as sess:\n",
    "    # Initializing the variables\n",
    "    sess.run(tf.global_variables_initializer())\n",
    "    \n",
    "    # Training cycle\n",
    "    for epoch in range(epochs):\n",
    "        batch_i = 1\n",
    "        for batch_features, batch_labels in helper.load_preprocess_training_batch(batch_i, batch_size):\n",
    "            train_neural_network(sess, optimizer, keep_probability, batch_features, batch_labels)\n",
    "        print('Epoch {:>2}, CIFAR-10 Batch {}:  '.format(epoch + 1, batch_i), end='')\n",
    "        print_stats(sess, batch_features, batch_labels, cost, accuracy)"
   ]
  },
  {
   "cell_type": "markdown",
   "metadata": {
    "deletable": true,
    "editable": true
   },
   "source": [
    "### Fully Train the Model\n",
    "Now that we have got a fairly good accuracy with a single CIFAR-10 batch, we'll try it with all five batches."
   ]
  },
  {
   "cell_type": "code",
   "execution_count": 30,
   "metadata": {
    "collapsed": false,
    "deletable": true,
    "editable": true
   },
   "outputs": [
    {
     "name": "stdout",
     "output_type": "stream",
     "text": [
      "Training...\n",
      "Epoch  1, CIFAR-10 Batch 1:  Loss:     2.1301 Validation Accuracy: 28.2800%\n",
      "Epoch  1, CIFAR-10 Batch 2:  Loss:     1.7348 Validation Accuracy: 37.7600%\n",
      "Epoch  1, CIFAR-10 Batch 3:  Loss:     1.4745 Validation Accuracy: 39.5000%\n",
      "Epoch  1, CIFAR-10 Batch 4:  Loss:     1.5280 Validation Accuracy: 44.8600%\n",
      "Epoch  1, CIFAR-10 Batch 5:  Loss:     1.4882 Validation Accuracy: 46.9000%\n",
      "Epoch  2, CIFAR-10 Batch 1:  Loss:     1.5042 Validation Accuracy: 50.5800%\n",
      "Epoch  2, CIFAR-10 Batch 2:  Loss:     1.2878 Validation Accuracy: 51.3200%\n",
      "Epoch  2, CIFAR-10 Batch 3:  Loss:     1.1004 Validation Accuracy: 51.4600%\n",
      "Epoch  2, CIFAR-10 Batch 4:  Loss:     1.2393 Validation Accuracy: 55.4600%\n",
      "Epoch  2, CIFAR-10 Batch 5:  Loss:     1.2488 Validation Accuracy: 55.2600%\n",
      "Epoch  3, CIFAR-10 Batch 1:  Loss:     1.1936 Validation Accuracy: 58.6200%\n",
      "Epoch  3, CIFAR-10 Batch 2:  Loss:     1.1138 Validation Accuracy: 56.7000%\n",
      "Epoch  3, CIFAR-10 Batch 3:  Loss:     0.9653 Validation Accuracy: 59.3200%\n",
      "Epoch  3, CIFAR-10 Batch 4:  Loss:     1.0516 Validation Accuracy: 60.6400%\n",
      "Epoch  3, CIFAR-10 Batch 5:  Loss:     0.8845 Validation Accuracy: 62.4400%\n",
      "Epoch  4, CIFAR-10 Batch 1:  Loss:     1.0630 Validation Accuracy: 61.2800%\n",
      "Epoch  4, CIFAR-10 Batch 2:  Loss:     1.0439 Validation Accuracy: 60.6000%\n",
      "Epoch  4, CIFAR-10 Batch 3:  Loss:     0.8735 Validation Accuracy: 62.7400%\n",
      "Epoch  4, CIFAR-10 Batch 4:  Loss:     0.8652 Validation Accuracy: 64.3600%\n",
      "Epoch  4, CIFAR-10 Batch 5:  Loss:     0.7977 Validation Accuracy: 65.5200%\n",
      "Epoch  5, CIFAR-10 Batch 1:  Loss:     0.9563 Validation Accuracy: 65.5400%\n",
      "Epoch  5, CIFAR-10 Batch 2:  Loss:     0.9357 Validation Accuracy: 65.8400%\n",
      "Epoch  5, CIFAR-10 Batch 3:  Loss:     0.7078 Validation Accuracy: 67.0400%\n",
      "Epoch  5, CIFAR-10 Batch 4:  Loss:     0.7481 Validation Accuracy: 67.0800%\n",
      "Epoch  5, CIFAR-10 Batch 5:  Loss:     0.7074 Validation Accuracy: 67.5200%\n",
      "Epoch  6, CIFAR-10 Batch 1:  Loss:     0.8849 Validation Accuracy: 66.1200%\n",
      "Epoch  6, CIFAR-10 Batch 2:  Loss:     0.6886 Validation Accuracy: 66.3000%\n",
      "Epoch  6, CIFAR-10 Batch 3:  Loss:     0.7170 Validation Accuracy: 66.7400%\n",
      "Epoch  6, CIFAR-10 Batch 4:  Loss:     0.7092 Validation Accuracy: 66.9000%\n",
      "Epoch  6, CIFAR-10 Batch 5:  Loss:     0.5851 Validation Accuracy: 69.3400%\n",
      "Epoch  7, CIFAR-10 Batch 1:  Loss:     0.7896 Validation Accuracy: 67.9200%\n",
      "Epoch  7, CIFAR-10 Batch 2:  Loss:     0.5819 Validation Accuracy: 68.4800%\n",
      "Epoch  7, CIFAR-10 Batch 3:  Loss:     0.6546 Validation Accuracy: 68.4000%\n",
      "Epoch  7, CIFAR-10 Batch 4:  Loss:     0.6572 Validation Accuracy: 70.0200%\n",
      "Epoch  7, CIFAR-10 Batch 5:  Loss:     0.5576 Validation Accuracy: 69.9200%\n",
      "Epoch  8, CIFAR-10 Batch 1:  Loss:     0.7330 Validation Accuracy: 69.2200%\n",
      "Epoch  8, CIFAR-10 Batch 2:  Loss:     0.5268 Validation Accuracy: 70.1200%\n",
      "Epoch  8, CIFAR-10 Batch 3:  Loss:     0.5397 Validation Accuracy: 71.4400%\n",
      "Epoch  8, CIFAR-10 Batch 4:  Loss:     0.5103 Validation Accuracy: 70.6600%\n",
      "Epoch  8, CIFAR-10 Batch 5:  Loss:     0.5350 Validation Accuracy: 70.5000%\n",
      "Epoch  9, CIFAR-10 Batch 1:  Loss:     0.6438 Validation Accuracy: 70.3400%\n",
      "Epoch  9, CIFAR-10 Batch 2:  Loss:     0.4889 Validation Accuracy: 71.0600%\n",
      "Epoch  9, CIFAR-10 Batch 3:  Loss:     0.5111 Validation Accuracy: 72.1600%\n",
      "Epoch  9, CIFAR-10 Batch 4:  Loss:     0.5120 Validation Accuracy: 71.4800%\n",
      "Epoch  9, CIFAR-10 Batch 5:  Loss:     0.5234 Validation Accuracy: 71.0400%\n",
      "Epoch 10, CIFAR-10 Batch 1:  Loss:     0.5266 Validation Accuracy: 70.3400%\n",
      "Epoch 10, CIFAR-10 Batch 2:  Loss:     0.4981 Validation Accuracy: 70.9800%\n",
      "Epoch 10, CIFAR-10 Batch 3:  Loss:     0.4421 Validation Accuracy: 71.8400%\n",
      "Epoch 10, CIFAR-10 Batch 4:  Loss:     0.5207 Validation Accuracy: 71.4200%\n",
      "Epoch 10, CIFAR-10 Batch 5:  Loss:     0.4972 Validation Accuracy: 72.7400%\n",
      "Epoch 11, CIFAR-10 Batch 1:  Loss:     0.6162 Validation Accuracy: 71.2400%\n",
      "Epoch 11, CIFAR-10 Batch 2:  Loss:     0.4039 Validation Accuracy: 71.4800%\n",
      "Epoch 11, CIFAR-10 Batch 3:  Loss:     0.3740 Validation Accuracy: 72.5000%\n",
      "Epoch 11, CIFAR-10 Batch 4:  Loss:     0.4451 Validation Accuracy: 72.6400%\n",
      "Epoch 11, CIFAR-10 Batch 5:  Loss:     0.3977 Validation Accuracy: 71.8600%\n",
      "Epoch 12, CIFAR-10 Batch 1:  Loss:     0.5250 Validation Accuracy: 71.2200%\n",
      "Epoch 12, CIFAR-10 Batch 2:  Loss:     0.4659 Validation Accuracy: 70.1400%\n",
      "Epoch 12, CIFAR-10 Batch 3:  Loss:     0.3329 Validation Accuracy: 72.5200%\n",
      "Epoch 12, CIFAR-10 Batch 4:  Loss:     0.3962 Validation Accuracy: 72.7400%\n",
      "Epoch 12, CIFAR-10 Batch 5:  Loss:     0.4244 Validation Accuracy: 73.0200%\n",
      "Epoch 13, CIFAR-10 Batch 1:  Loss:     0.4395 Validation Accuracy: 70.1600%\n",
      "Epoch 13, CIFAR-10 Batch 2:  Loss:     0.4226 Validation Accuracy: 72.0800%\n",
      "Epoch 13, CIFAR-10 Batch 3:  Loss:     0.3600 Validation Accuracy: 72.3200%\n",
      "Epoch 13, CIFAR-10 Batch 4:  Loss:     0.3551 Validation Accuracy: 71.8800%\n",
      "Epoch 13, CIFAR-10 Batch 5:  Loss:     0.3480 Validation Accuracy: 72.5400%\n",
      "Epoch 14, CIFAR-10 Batch 1:  Loss:     0.4141 Validation Accuracy: 71.8800%\n",
      "Epoch 14, CIFAR-10 Batch 2:  Loss:     0.3650 Validation Accuracy: 72.6800%\n",
      "Epoch 14, CIFAR-10 Batch 3:  Loss:     0.2951 Validation Accuracy: 72.9800%\n",
      "Epoch 14, CIFAR-10 Batch 4:  Loss:     0.3046 Validation Accuracy: 72.3200%\n",
      "Epoch 14, CIFAR-10 Batch 5:  Loss:     0.3151 Validation Accuracy: 73.6000%\n",
      "Epoch 15, CIFAR-10 Batch 1:  Loss:     0.3596 Validation Accuracy: 71.0200%\n",
      "Epoch 15, CIFAR-10 Batch 2:  Loss:     0.3251 Validation Accuracy: 73.2600%\n",
      "Epoch 15, CIFAR-10 Batch 3:  Loss:     0.2937 Validation Accuracy: 71.8000%\n",
      "Epoch 15, CIFAR-10 Batch 4:  Loss:     0.3344 Validation Accuracy: 72.6000%\n",
      "Epoch 15, CIFAR-10 Batch 5:  Loss:     0.3877 Validation Accuracy: 72.9000%\n",
      "Epoch 16, CIFAR-10 Batch 1:  Loss:     0.3585 Validation Accuracy: 72.2200%\n",
      "Epoch 16, CIFAR-10 Batch 2:  Loss:     0.3345 Validation Accuracy: 71.9800%\n",
      "Epoch 16, CIFAR-10 Batch 3:  Loss:     0.3165 Validation Accuracy: 72.2200%\n",
      "Epoch 16, CIFAR-10 Batch 4:  Loss:     0.3131 Validation Accuracy: 73.3200%\n",
      "Epoch 16, CIFAR-10 Batch 5:  Loss:     0.3796 Validation Accuracy: 72.5400%\n",
      "Epoch 17, CIFAR-10 Batch 1:  Loss:     0.3077 Validation Accuracy: 70.9800%\n",
      "Epoch 17, CIFAR-10 Batch 2:  Loss:     0.2861 Validation Accuracy: 72.9800%\n",
      "Epoch 17, CIFAR-10 Batch 3:  Loss:     0.2604 Validation Accuracy: 72.4600%\n",
      "Epoch 17, CIFAR-10 Batch 4:  Loss:     0.2355 Validation Accuracy: 72.7400%\n",
      "Epoch 17, CIFAR-10 Batch 5:  Loss:     0.2811 Validation Accuracy: 73.4400%\n",
      "Epoch 18, CIFAR-10 Batch 1:  Loss:     0.3275 Validation Accuracy: 72.5400%\n",
      "Epoch 18, CIFAR-10 Batch 2:  Loss:     0.3164 Validation Accuracy: 71.7000%\n",
      "Epoch 18, CIFAR-10 Batch 3:  Loss:     0.2844 Validation Accuracy: 72.8000%\n",
      "Epoch 18, CIFAR-10 Batch 4:  Loss:     0.2117 Validation Accuracy: 72.3000%\n",
      "Epoch 18, CIFAR-10 Batch 5:  Loss:     0.1966 Validation Accuracy: 73.6000%\n",
      "Epoch 19, CIFAR-10 Batch 1:  Loss:     0.3322 Validation Accuracy: 73.2800%\n",
      "Epoch 19, CIFAR-10 Batch 2:  Loss:     0.3001 Validation Accuracy: 73.6800%\n",
      "Epoch 19, CIFAR-10 Batch 3:  Loss:     0.2884 Validation Accuracy: 73.1200%\n",
      "Epoch 19, CIFAR-10 Batch 4:  Loss:     0.2026 Validation Accuracy: 73.0800%\n",
      "Epoch 19, CIFAR-10 Batch 5:  Loss:     0.1921 Validation Accuracy: 72.6400%\n",
      "Epoch 20, CIFAR-10 Batch 1:  Loss:     0.2627 Validation Accuracy: 73.1800%\n",
      "Epoch 20, CIFAR-10 Batch 2:  Loss:     0.3487 Validation Accuracy: 72.5200%\n",
      "Epoch 20, CIFAR-10 Batch 3:  Loss:     0.2753 Validation Accuracy: 72.1800%\n",
      "Epoch 20, CIFAR-10 Batch 4:  Loss:     0.2262 Validation Accuracy: 72.2400%\n",
      "Epoch 20, CIFAR-10 Batch 5:  Loss:     0.2302 Validation Accuracy: 71.9200%\n",
      "Epoch 21, CIFAR-10 Batch 1:  Loss:     0.2015 Validation Accuracy: 73.0600%\n",
      "Epoch 21, CIFAR-10 Batch 2:  Loss:     0.2324 Validation Accuracy: 72.7200%\n",
      "Epoch 21, CIFAR-10 Batch 3:  Loss:     0.2264 Validation Accuracy: 72.9400%\n",
      "Epoch 21, CIFAR-10 Batch 4:  Loss:     0.2172 Validation Accuracy: 72.3200%\n",
      "Epoch 21, CIFAR-10 Batch 5:  Loss:     0.1859 Validation Accuracy: 71.9600%\n",
      "Epoch 22, CIFAR-10 Batch 1:  Loss:     0.2773 Validation Accuracy: 72.2800%\n",
      "Epoch 22, CIFAR-10 Batch 2:  Loss:     0.2801 Validation Accuracy: 72.5800%\n",
      "Epoch 22, CIFAR-10 Batch 3:  Loss:     0.1783 Validation Accuracy: 74.0600%\n",
      "Epoch 22, CIFAR-10 Batch 4:  Loss:     0.2074 Validation Accuracy: 72.1600%\n",
      "Epoch 22, CIFAR-10 Batch 5:  Loss:     0.1780 Validation Accuracy: 72.4200%\n",
      "Epoch 23, CIFAR-10 Batch 1:  Loss:     0.2695 Validation Accuracy: 72.0000%\n",
      "Epoch 23, CIFAR-10 Batch 2:  Loss:     0.2172 Validation Accuracy: 73.9600%\n",
      "Epoch 23, CIFAR-10 Batch 3:  Loss:     0.1662 Validation Accuracy: 73.6000%\n",
      "Epoch 23, CIFAR-10 Batch 4:  Loss:     0.1865 Validation Accuracy: 72.7200%\n",
      "Epoch 23, CIFAR-10 Batch 5:  Loss:     0.1268 Validation Accuracy: 73.8000%\n",
      "Epoch 24, CIFAR-10 Batch 1:  Loss:     0.3322 Validation Accuracy: 73.6800%\n",
      "Epoch 24, CIFAR-10 Batch 2:  Loss:     0.2115 Validation Accuracy: 74.2600%\n",
      "Epoch 24, CIFAR-10 Batch 3:  Loss:     0.1728 Validation Accuracy: 74.1600%\n",
      "Epoch 24, CIFAR-10 Batch 4:  Loss:     0.2235 Validation Accuracy: 72.3200%\n",
      "Epoch 24, CIFAR-10 Batch 5:  Loss:     0.1334 Validation Accuracy: 72.9200%\n",
      "Epoch 25, CIFAR-10 Batch 1:  Loss:     0.2327 Validation Accuracy: 73.8800%\n",
      "Epoch 25, CIFAR-10 Batch 2:  Loss:     0.2238 Validation Accuracy: 73.6000%\n",
      "Epoch 25, CIFAR-10 Batch 3:  Loss:     0.1865 Validation Accuracy: 72.7000%\n",
      "Epoch 25, CIFAR-10 Batch 4:  Loss:     0.1931 Validation Accuracy: 72.7400%\n",
      "Epoch 25, CIFAR-10 Batch 5:  Loss:     0.1565 Validation Accuracy: 72.7000%\n",
      "Epoch 26, CIFAR-10 Batch 1:  Loss:     0.2300 Validation Accuracy: 73.6200%\n",
      "Epoch 26, CIFAR-10 Batch 2:  Loss:     0.2684 Validation Accuracy: 72.7000%\n",
      "Epoch 26, CIFAR-10 Batch 3:  Loss:     0.1315 Validation Accuracy: 72.8000%\n",
      "Epoch 26, CIFAR-10 Batch 4:  Loss:     0.1236 Validation Accuracy: 73.1800%\n",
      "Epoch 26, CIFAR-10 Batch 5:  Loss:     0.1261 Validation Accuracy: 73.0800%\n",
      "Epoch 27, CIFAR-10 Batch 1:  Loss:     0.2257 Validation Accuracy: 73.7800%\n",
      "Epoch 27, CIFAR-10 Batch 2:  Loss:     0.2897 Validation Accuracy: 73.2400%\n",
      "Epoch 27, CIFAR-10 Batch 3:  Loss:     0.1346 Validation Accuracy: 73.4000%\n",
      "Epoch 27, CIFAR-10 Batch 4:  Loss:     0.1511 Validation Accuracy: 73.1200%\n",
      "Epoch 27, CIFAR-10 Batch 5:  Loss:     0.1515 Validation Accuracy: 73.3400%\n",
      "Epoch 28, CIFAR-10 Batch 1:  Loss:     0.2105 Validation Accuracy: 73.7600%\n",
      "Epoch 28, CIFAR-10 Batch 2:  Loss:     0.1569 Validation Accuracy: 73.7200%\n",
      "Epoch 28, CIFAR-10 Batch 3:  Loss:     0.1131 Validation Accuracy: 73.3400%\n",
      "Epoch 28, CIFAR-10 Batch 4:  Loss:     0.1350 Validation Accuracy: 73.5200%\n",
      "Epoch 28, CIFAR-10 Batch 5:  Loss:     0.1113 Validation Accuracy: 73.7800%\n",
      "Epoch 29, CIFAR-10 Batch 1:  Loss:     0.2208 Validation Accuracy: 73.4600%\n",
      "Epoch 29, CIFAR-10 Batch 2:  Loss:     0.1561 Validation Accuracy: 73.2000%\n",
      "Epoch 29, CIFAR-10 Batch 3:  Loss:     0.1100 Validation Accuracy: 73.4000%\n",
      "Epoch 29, CIFAR-10 Batch 4:  Loss:     0.1164 Validation Accuracy: 73.8200%\n",
      "Epoch 29, CIFAR-10 Batch 5:  Loss:     0.0842 Validation Accuracy: 73.7400%\n",
      "Epoch 30, CIFAR-10 Batch 1:  Loss:     0.1393 Validation Accuracy: 73.7600%\n",
      "Epoch 30, CIFAR-10 Batch 2:  Loss:     0.1914 Validation Accuracy: 73.0800%\n",
      "Epoch 30, CIFAR-10 Batch 3:  Loss:     0.2088 Validation Accuracy: 73.0400%\n",
      "Epoch 30, CIFAR-10 Batch 4:  Loss:     0.1076 Validation Accuracy: 73.2000%\n",
      "Epoch 30, CIFAR-10 Batch 5:  Loss:     0.1127 Validation Accuracy: 74.1200%\n"
     ]
    }
   ],
   "source": [
    "save_model_path = './image_classification'\n",
    "\n",
    "print('Training...')\n",
    "with tf.Session() as sess:\n",
    "    # Initializing the variables\n",
    "    sess.run(tf.global_variables_initializer())\n",
    "    \n",
    "    # Training cycle\n",
    "    for epoch in range(epochs):\n",
    "        # Loop over all batches\n",
    "        n_batches = 5\n",
    "        for batch_i in range(1, n_batches + 1):\n",
    "            for batch_features, batch_labels in helper.load_preprocess_training_batch(batch_i, batch_size):\n",
    "                train_neural_network(sess, optimizer, keep_probability, batch_features, batch_labels)\n",
    "            print('Epoch {:>2}, CIFAR-10 Batch {}:  '.format(epoch + 1, batch_i), end='')\n",
    "            print_stats(sess, batch_features, batch_labels, cost, accuracy)\n",
    "            \n",
    "    # Save Model\n",
    "    saver = tf.train.Saver()\n",
    "    save_path = saver.save(sess, save_model_path)"
   ]
  },
  {
   "cell_type": "markdown",
   "metadata": {
    "deletable": true,
    "editable": true
   },
   "source": [
    "# Checkpoint\n",
    "The model has been saved to disk.\n",
    "## Test Model\n",
    "Testing our model against the test dataset.  This will be our final accuracy."
   ]
  },
  {
   "cell_type": "code",
   "execution_count": 31,
   "metadata": {
    "collapsed": false,
    "deletable": true,
    "editable": true
   },
   "outputs": [
    {
     "name": "stdout",
     "output_type": "stream",
     "text": [
      "Testing Accuracy: 0.7339769108280255\n",
      "\n"
     ]
    },
    {
     "data": {
      "image/png": "[encoded data removed]",
      "text/plain": [
       "<matplotlib.figure.Figure at 0x13285d0b8>"
      ]
     },
     "metadata": {
      "image/png": {
       "height": 319,
       "width": 355
      }
     },
     "output_type": "display_data"
    }
   ],
   "source": [
    "%matplotlib inline\n",
    "%config InlineBackend.figure_format = 'retina'\n",
    "\n",
    "import tensorflow as tf\n",
    "import pickle\n",
    "import helper\n",
    "import random\n",
    "\n",
    "# Set batch size if not already set\n",
    "try:\n",
    "    if batch_size:\n",
    "        pass\n",
    "except NameError:\n",
    "    batch_size = 64\n",
    "\n",
    "save_model_path = './image_classification'\n",
    "n_samples = 4\n",
    "top_n_predictions = 3\n",
    "\n",
    "def test_model():\n",
    "    \"\"\"\n",
    "    Test the saved model against the test dataset\n",
    "    \"\"\"\n",
    "\n",
    "    test_features, test_labels = pickle.load(open('preprocess_training.p', mode='rb'))\n",
    "    loaded_graph = tf.Graph()\n",
    "\n",
    "    with tf.Session(graph=loaded_graph) as sess:\n",
    "        # Load model\n",
    "        loader = tf.train.import_meta_graph(save_model_path + '.meta')\n",
    "        loader.restore(sess, save_model_path)\n",
    "\n",
    "        # Get Tensors from loaded model\n",
    "        loaded_x = loaded_graph.get_tensor_by_name('x:0')\n",
    "        loaded_y = loaded_graph.get_tensor_by_name('y:0')\n",
    "        loaded_keep_prob = loaded_graph.get_tensor_by_name('keep_prob:0')\n",
    "        loaded_logits = loaded_graph.get_tensor_by_name('logits:0')\n",
    "        loaded_acc = loaded_graph.get_tensor_by_name('accuracy:0')\n",
    "        \n",
    "        # Get accuracy in batches for memory limitations\n",
    "        test_batch_acc_total = 0\n",
    "        test_batch_count = 0\n",
    "        \n",
    "        for train_feature_batch, train_label_batch in helper.batch_features_labels(test_features, test_labels, batch_size):\n",
    "            test_batch_acc_total += sess.run(\n",
    "                loaded_acc,\n",
    "                feed_dict={loaded_x: train_feature_batch, loaded_y: train_label_batch, loaded_keep_prob: 1.0})\n",
    "            test_batch_count += 1\n",
    "\n",
    "        print('Testing Accuracy: {}\\n'.format(test_batch_acc_total/test_batch_count))\n",
    "\n",
    "        # Print Random Samples\n",
    "        random_test_features, random_test_labels = tuple(zip(*random.sample(list(zip(test_features, test_labels)), n_samples)))\n",
    "        random_test_predictions = sess.run(\n",
    "            tf.nn.top_k(tf.nn.softmax(loaded_logits), top_n_predictions),\n",
    "            feed_dict={loaded_x: random_test_features, loaded_y: random_test_labels, loaded_keep_prob: 1.0})\n",
    "        helper.display_image_predictions(random_test_features, random_test_labels, random_test_predictions)\n",
    "\n",
    "\n",
    "test_model()"
   ]
  },
  {
   "cell_type": "markdown",
   "metadata": {
    "deletable": true,
    "editable": true
   },
   "source": [
    "## Why 70-75% Accuracy?\n",
    "First things first, 70% isn't bad for a simple CNN like this one.  Pure guessing would get you 10% accuracy. The reason why the accuracy is not higher is, that some more advanced techniques havn't been used in this simple model yet."
   ]
  }
 ],
 "metadata": {
  "kernelspec": {
   "display_name": "Python 3",
   "language": "python",
   "name": "python3"
  },
  "language_info": {
   "codemirror_mode": {
    "name": "ipython",
    "version": 3
   },
   "file_extension": ".py",
   "mimetype": "text/x-python",
   "name": "python",
   "nbconvert_exporter": "python",
   "pygments_lexer": "ipython3",
   "version": "3.5.2"
  },
  "widgets": {
   "state": {},
   "version": "1.1.2"
  }
 },
 "nbformat": 4,
 "nbformat_minor": 0
}
